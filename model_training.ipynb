{
 "cells": [
  {
   "cell_type": "markdown",
   "metadata": {},
   "source": []
  },
  {
   "cell_type": "code",
   "execution_count": 2,
   "metadata": {},
   "outputs": [
    {
     "name": "stderr",
     "output_type": "stream",
     "text": [
      "2022-03-22 21:49:11.144322: I tensorflow/stream_executor/platform/default/dso_loader.cc:53] Successfully opened dynamic library libcudart.so.11.0\n"
     ]
    }
   ],
   "source": [
    "import os, sys\n",
    "\n",
    "import pandas as pd\n",
    "import numpy as np\n",
    "import pickle\n",
    "import gzip\n",
    "import seaborn as sns\n",
    "import matplotlib.pyplot as plt\n",
    "from sklearn.metrics import balanced_accuracy_score, confusion_matrix\n",
    "from tensorflow.keras.models import load_model\n",
    "\n",
    "import matplotlib.pyplot as plt\n",
    "\n",
    "os.environ[\"CUDA_VISIBLE_DEVICES\"]=\"3\" #specify GPU \n",
    "from tensorflow import keras as K\n",
    "import tensorflow as tf\n",
    "from tensorflow.keras import backend\n",
    "from tensorflow.compat.v1.keras.backend import set_session\n",
    "from tensorflow.keras.models import Sequential\n",
    "from tensorflow.keras.layers import Dense, Dropout"
   ]
  },
  {
   "cell_type": "markdown",
   "metadata": {},
   "source": [
    "#### Define parameters for this cross-validation run"
   ]
  },
  {
   "cell_type": "code",
   "execution_count": 3,
   "metadata": {},
   "outputs": [],
   "source": [
    "hyperparameter_file = 'hyperparameters' # textfile which contains the hyperparameters of the model\n",
    "data_file = 'data_test_fold0_tanh.p.gz' # pickle file which contains the data (produced with normalize.ipynb)"
   ]
  },
  {
   "cell_type": "markdown",
   "metadata": {},
   "source": [
    "#### Define smoothing functions for early stopping parameter"
   ]
  },
  {
   "cell_type": "code",
   "execution_count": 4,
   "metadata": {},
   "outputs": [],
   "source": [
    "def moving_average(a, n=3):\n",
    "    ret = np.cumsum(a, dtype=float)\n",
    "    ret[n:] = ret[n:] - ret[:-n]\n",
    "    return ret[n - 1:] / n"
   ]
  },
  {
   "cell_type": "markdown",
   "metadata": {},
   "source": [
    "#### Load parameters defining the model"
   ]
  },
  {
   "cell_type": "code",
   "execution_count": 5,
   "metadata": {},
   "outputs": [],
   "source": [
    "exec(open(hyperparameter_file).read()) "
   ]
  },
  {
   "cell_type": "markdown",
   "metadata": {},
   "source": [
    "#### Load data \n",
    "tr = 60% of data for training during hyperparameter selection <br>\n",
    "val = 20% of data for validation during hyperparameter selection\n",
    "\n",
    "train = tr + val = 80% of data for training during final testing <br>\n",
    "test = remaining left out 20% of data for unbiased testing \n",
    "\n",
    "splitting and normalization was done with normalize.ipynb"
   ]
  },
  {
   "cell_type": "code",
   "execution_count": 6,
   "metadata": {},
   "outputs": [],
   "source": [
    "file = gzip.open(data_file, 'rb')\n",
    "X_tr, X_val, X_train, X_test, y_tr, y_val, y_train, y_test = pickle.load(file)\n",
    "file.close()"
   ]
  },
  {
   "cell_type": "markdown",
   "metadata": {},
   "source": [
    "#### run set"
   ]
  },
  {
   "cell_type": "code",
   "execution_count": 7,
   "metadata": {},
   "outputs": [],
   "source": [
    "config = tf.compat.v1.ConfigProto(\n",
    "         allow_soft_placement=True,\n",
    "         #gpu_options = tf.GPUOptions(allow_growth=True)\n",
    "        # gpu_options = tf.compat.v1.GPUOptions(allow_growth = True)\n",
    "        )\n",
    "\n",
    "config.gpu_options.allow_growth = True"
   ]
  },
  {
   "cell_type": "code",
   "execution_count": 8,
   "metadata": {},
   "outputs": [
    {
     "name": "stderr",
     "output_type": "stream",
     "text": [
      "2022-03-22 21:49:55.522719: I tensorflow/core/platform/cpu_feature_guard.cc:142] This TensorFlow binary is optimized with oneAPI Deep Neural Network Library (oneDNN) to use the following CPU instructions in performance-critical operations:  AVX2 FMA\n",
      "To enable them in other operations, rebuild TensorFlow with the appropriate compiler flags.\n",
      "2022-03-22 21:49:55.581487: I tensorflow/stream_executor/platform/default/dso_loader.cc:53] Successfully opened dynamic library libcuda.so.1\n",
      "2022-03-22 21:49:55.605438: E tensorflow/stream_executor/cuda/cuda_driver.cc:328] failed call to cuInit: CUDA_ERROR_NO_DEVICE: no CUDA-capable device is detected\n",
      "2022-03-22 21:49:55.617823: I tensorflow/stream_executor/cuda/cuda_diagnostics.cc:169] retrieving CUDA diagnostic information for host: Olympias\n",
      "2022-03-22 21:49:55.617852: I tensorflow/stream_executor/cuda/cuda_diagnostics.cc:176] hostname: Olympias\n",
      "2022-03-22 21:49:55.628254: I tensorflow/stream_executor/cuda/cuda_diagnostics.cc:200] libcuda reported version is: 510.47.3\n",
      "2022-03-22 21:49:55.628327: I tensorflow/stream_executor/cuda/cuda_diagnostics.cc:204] kernel reported version is: 510.47.3\n",
      "2022-03-22 21:49:55.628340: I tensorflow/stream_executor/cuda/cuda_diagnostics.cc:310] kernel version seems to match DSO: 510.47.3\n"
     ]
    }
   ],
   "source": [
    "\n",
    "#set_session(tf.compat.v1.Session()(config=config))\n",
    "\n",
    "from tensorflow.compat.v1 import InteractiveSession\n",
    "session = InteractiveSession(config=config)\n",
    "\n"
   ]
  },
  {
   "cell_type": "code",
   "execution_count": 8,
   "metadata": {},
   "outputs": [
    {
     "name": "stderr",
     "output_type": "stream",
     "text": [
      "2022-03-20 14:11:12.489184: W tensorflow/core/framework/cpu_allocator_impl.cc:80] Allocation of 289511888 exceeds 10% of free system memory.\n",
      "2022-03-20 14:11:12.840712: W tensorflow/core/framework/cpu_allocator_impl.cc:80] Allocation of 289511888 exceeds 10% of free system memory.\n",
      "2022-03-20 14:11:12.920522: W tensorflow/core/framework/cpu_allocator_impl.cc:80] Allocation of 289511888 exceeds 10% of free system memory.\n",
      "/home/nidhi/miniconda3/lib/python3.8/site-packages/tensorflow/python/keras/optimizer_v2/optimizer_v2.py:374: UserWarning: The `lr` argument is deprecated, use `learning_rate` instead.\n",
      "  warnings.warn(\n"
     ]
    }
   ],
   "source": [
    "model = Sequential()\n",
    "metrics=[tf.keras.metrics.MeanSquaredError(), \n",
    "         tf.keras.metrics.RootMeanSquaredError(),\n",
    "         tf.keras.metrics.MeanAbsoluteError()]\n",
    "for i in range(len(layers)):\n",
    "    if i==0:\n",
    "        model.add(Dense(layers[i], input_shape=(X_tr.shape[1],), activation=act_func, \n",
    "                        kernel_initializer='he_normal'))\n",
    "        model.add(Dropout(float(input_dropout)))\n",
    "    elif i==len(layers)-1:\n",
    "        model.add(Dense(layers[i], activation='linear', kernel_initializer=\"he_normal\"))\n",
    "    else:\n",
    "        model.add(Dense(layers[i], activation=act_func, kernel_initializer=\"he_normal\"))\n",
    "        model.add(Dropout(float(dropout)))\n",
    "    model.compile(loss='mean_squared_error', metrics= metrics, optimizer=K.optimizers.SGD(lr=float(eta), momentum=0.5))"
   ]
  },
  {
   "cell_type": "markdown",
   "metadata": {},
   "source": [
    "Train model"
   ]
  },
  {
   "cell_type": "code",
   "execution_count": 9,
   "metadata": {},
   "outputs": [
    {
     "name": "stdout",
     "output_type": "stream",
     "text": [
      "(27768, 8846)\n",
      "(27768,)\n"
     ]
    }
   ],
   "source": [
    "print(X_tr.shape)\n",
    "print(y_tr.shape)"
   ]
  },
  {
   "cell_type": "code",
   "execution_count": 12,
   "metadata": {},
   "outputs": [
    {
     "name": "stdout",
     "output_type": "stream",
     "text": [
      "Epoch 1/15\n",
      "434/434 [==============================] - 125s 288ms/step - loss: 436.6067 - mean_squared_error: 436.6067 - root_mean_squared_error: 20.8951 - mean_absolute_error: 13.0226 - val_loss: 361.0805 - val_mean_squared_error: 361.0805 - val_root_mean_squared_error: 19.0021 - val_mean_absolute_error: 12.7548\n",
      "Epoch 2/15\n",
      "434/434 [==============================] - 126s 291ms/step - loss: 424.9230 - mean_squared_error: 424.9230 - root_mean_squared_error: 20.6137 - mean_absolute_error: 12.8399 - val_loss: 354.4756 - val_mean_squared_error: 354.4756 - val_root_mean_squared_error: 18.8275 - val_mean_absolute_error: 12.6764\n",
      "Epoch 3/15\n",
      "434/434 [==============================] - 124s 285ms/step - loss: 415.4151 - mean_squared_error: 415.4151 - root_mean_squared_error: 20.3817 - mean_absolute_error: 12.7222 - val_loss: 350.0184 - val_mean_squared_error: 350.0184 - val_root_mean_squared_error: 18.7088 - val_mean_absolute_error: 12.5916\n",
      "Epoch 4/15\n",
      "434/434 [==============================] - 123s 283ms/step - loss: 407.2180 - mean_squared_error: 407.2180 - root_mean_squared_error: 20.1796 - mean_absolute_error: 12.5838 - val_loss: 347.6654 - val_mean_squared_error: 347.6654 - val_root_mean_squared_error: 18.6458 - val_mean_absolute_error: 12.6175\n",
      "Epoch 5/15\n",
      "434/434 [==============================] - 127s 291ms/step - loss: 399.5083 - mean_squared_error: 399.5083 - root_mean_squared_error: 19.9877 - mean_absolute_error: 12.5052 - val_loss: 340.6186 - val_mean_squared_error: 340.6186 - val_root_mean_squared_error: 18.4559 - val_mean_absolute_error: 12.4371\n",
      "Epoch 6/15\n",
      "434/434 [==============================] - 123s 283ms/step - loss: 389.3174 - mean_squared_error: 389.3174 - root_mean_squared_error: 19.7311 - mean_absolute_error: 12.3535 - val_loss: 335.8048 - val_mean_squared_error: 335.8048 - val_root_mean_squared_error: 18.3250 - val_mean_absolute_error: 12.3999\n",
      "Epoch 7/15\n",
      "434/434 [==============================] - 122s 281ms/step - loss: 381.8297 - mean_squared_error: 381.8297 - root_mean_squared_error: 19.5405 - mean_absolute_error: 12.2687 - val_loss: 330.0602 - val_mean_squared_error: 330.0602 - val_root_mean_squared_error: 18.1676 - val_mean_absolute_error: 12.3055\n",
      "Epoch 8/15\n",
      "434/434 [==============================] - 123s 284ms/step - loss: 371.9972 - mean_squared_error: 371.9972 - root_mean_squared_error: 19.2872 - mean_absolute_error: 12.1058 - val_loss: 325.4491 - val_mean_squared_error: 325.4491 - val_root_mean_squared_error: 18.0402 - val_mean_absolute_error: 12.2107\n",
      "Epoch 9/15\n",
      "434/434 [==============================] - 123s 283ms/step - loss: 363.6606 - mean_squared_error: 363.6606 - root_mean_squared_error: 19.0699 - mean_absolute_error: 11.9960 - val_loss: 325.4561 - val_mean_squared_error: 325.4561 - val_root_mean_squared_error: 18.0404 - val_mean_absolute_error: 12.3245\n",
      "Epoch 10/15\n",
      "434/434 [==============================] - 124s 285ms/step - loss: 353.2052 - mean_squared_error: 353.2052 - root_mean_squared_error: 18.7938 - mean_absolute_error: 11.8606 - val_loss: 313.6253 - val_mean_squared_error: 313.6253 - val_root_mean_squared_error: 17.7095 - val_mean_absolute_error: 11.9359\n",
      "Epoch 11/15\n",
      "434/434 [==============================] - 121s 280ms/step - loss: 341.7738 - mean_squared_error: 341.7738 - root_mean_squared_error: 18.4871 - mean_absolute_error: 11.6666 - val_loss: 308.5059 - val_mean_squared_error: 308.5059 - val_root_mean_squared_error: 17.5643 - val_mean_absolute_error: 11.9287\n",
      "Epoch 12/15\n",
      "434/434 [==============================] - 122s 281ms/step - loss: 331.1454 - mean_squared_error: 331.1454 - root_mean_squared_error: 18.1974 - mean_absolute_error: 11.5170 - val_loss: 305.0199 - val_mean_squared_error: 305.0199 - val_root_mean_squared_error: 17.4648 - val_mean_absolute_error: 11.9002\n",
      "Epoch 13/15\n",
      "434/434 [==============================] - 122s 282ms/step - loss: 319.5674 - mean_squared_error: 319.5674 - root_mean_squared_error: 17.8764 - mean_absolute_error: 11.3335 - val_loss: 301.9058 - val_mean_squared_error: 301.9058 - val_root_mean_squared_error: 17.3754 - val_mean_absolute_error: 11.8013\n",
      "Epoch 14/15\n",
      "434/434 [==============================] - 120s 276ms/step - loss: 308.8172 - mean_squared_error: 308.8172 - root_mean_squared_error: 17.5732 - mean_absolute_error: 11.1970 - val_loss: 295.4381 - val_mean_squared_error: 295.4381 - val_root_mean_squared_error: 17.1883 - val_mean_absolute_error: 11.6637\n",
      "Epoch 15/15\n",
      "434/434 [==============================] - 118s 273ms/step - loss: 297.2926 - mean_squared_error: 297.2926 - root_mean_squared_error: 17.2422 - mean_absolute_error: 11.0213 - val_loss: 292.0159 - val_mean_squared_error: 292.0159 - val_root_mean_squared_error: 17.0885 - val_mean_absolute_error: 11.5697\n"
     ]
    }
   ],
   "source": [
    "hist = model.fit(X_tr, y_tr, epochs=15, shuffle=True, batch_size=64, validation_data=(X_val, y_val))\n",
    "val_loss = hist.history['val_loss']\n",
    "model.save(\"model_50_eopochs.h5\")\n",
    "#model.reset_states()"
   ]
  },
  {
   "cell_type": "code",
   "execution_count": 16,
   "metadata": {},
   "outputs": [],
   "source": [
    "model.save(\"model_15_epochs.h5\")\n",
    "model_15epochs = load_model(\"model_15_epochs.h5\")\n",
    "predictions_15epochs = model_15epochs.predict(X_test)\n"
   ]
  },
  {
   "cell_type": "code",
   "execution_count": null,
   "metadata": {},
   "outputs": [],
   "source": [
    "predictions_15epochs"
   ]
  },
  {
   "cell_type": "code",
   "execution_count": 11,
   "metadata": {},
   "outputs": [
    {
     "data": {
      "text/plain": [
       "{'loss': [539.1558837890625, 481.4039306640625],\n",
       " 'mean_squared_error': [539.1558837890625, 481.4039306640625],\n",
       " 'root_mean_squared_error': [23.219730377197266, 21.940919876098633],\n",
       " 'mean_absolute_error': [14.708244323730469, 13.697532653808594],\n",
       " 'val_loss': [418.8004455566406, 384.8361511230469],\n",
       " 'val_mean_squared_error': [418.8004455566406, 384.8361511230469],\n",
       " 'val_root_mean_squared_error': [20.464614868164062, 19.61724090576172],\n",
       " 'val_mean_absolute_error': [13.840609550476074, 13.217065811157227]}"
      ]
     },
     "execution_count": 11,
     "metadata": {},
     "output_type": "execute_result"
    }
   ],
   "source": [
    "hist.history"
   ]
  },
  {
   "cell_type": "markdown",
   "metadata": {},
   "source": [
    "Evaluate model on test data"
   ]
  },
  {
   "cell_type": "code",
   "execution_count": 12,
   "metadata": {},
   "outputs": [
    {
     "name": "stdout",
     "output_type": "stream",
     "text": [
      "Regression metrics from the model\n",
      "72/72 [==============================] - 7s 101ms/step - loss: 378.5557 - mean_squared_error: 378.5557 - root_mean_squared_error: 19.4565 - mean_absolute_error: 12.9566\n",
      "[378.5556640625, 378.5556640625, 19.456506729125977, 12.956592559814453]\n",
      "Mean squared Error= 378.5556640625\n",
      "Root Mean squared Error= 19.456506729125977\n",
      "Mean Absolute Error= 12.956592559814453\n"
     ]
    }
   ],
   "source": [
    "print(\"Regression metrics from the model\")\n",
    "results = model.evaluate(X_test, y_test, batch_size=128)\n",
    "print(results)\n",
    "print(\"Mean squared Error=\", results[1])\n",
    "print(\"Root Mean squared Error=\", results[2])\n",
    "print(\"Mean Absolute Error=\", results[3])\n"
   ]
  },
  {
   "cell_type": "markdown",
   "metadata": {},
   "source": [
    "Synergy Score Prediction"
   ]
  },
  {
   "cell_type": "code",
   "execution_count": 13,
   "metadata": {},
   "outputs": [
    {
     "name": "stdout",
     "output_type": "stream",
     "text": [
      "Synergy Score Prediction\n",
      "predictions shape: (9108, 1)\n",
      "[[4.5292225]\n",
      " [5.321245 ]\n",
      " [5.1032667]\n",
      " ...\n",
      " [4.0974307]\n",
      " [5.7467527]\n",
      " [3.683684 ]]\n"
     ]
    }
   ],
   "source": [
    "print(\"Synergy Score Prediction\")\n",
    "predictions = model.predict(X_test)\n",
    "print(\"predictions shape:\", predictions.shape)\n",
    "\n",
    "print(predictions)"
   ]
  },
  {
   "cell_type": "markdown",
   "metadata": {},
   "source": [
    "Classification metrics for model"
   ]
  },
  {
   "cell_type": "code",
   "execution_count": 14,
   "metadata": {},
   "outputs": [
    {
     "data": {
      "text/html": [
       "<div>\n",
       "<style scoped>\n",
       "    .dataframe tbody tr th:only-of-type {\n",
       "        vertical-align: middle;\n",
       "    }\n",
       "\n",
       "    .dataframe tbody tr th {\n",
       "        vertical-align: top;\n",
       "    }\n",
       "\n",
       "    .dataframe thead th {\n",
       "        text-align: right;\n",
       "    }\n",
       "</style>\n",
       "<table border=\"1\" class=\"dataframe\">\n",
       "  <thead>\n",
       "    <tr style=\"text-align: right;\">\n",
       "      <th></th>\n",
       "      <th>y_test</th>\n",
       "      <th>y_label</th>\n",
       "      <th>predictions</th>\n",
       "      <th>predicted_label</th>\n",
       "    </tr>\n",
       "  </thead>\n",
       "  <tbody>\n",
       "    <tr>\n",
       "      <th>0</th>\n",
       "      <td>4.331695</td>\n",
       "      <td>0.0</td>\n",
       "      <td>4.529222</td>\n",
       "      <td>0.0</td>\n",
       "    </tr>\n",
       "    <tr>\n",
       "      <th>1</th>\n",
       "      <td>-8.161129</td>\n",
       "      <td>0.0</td>\n",
       "      <td>5.321245</td>\n",
       "      <td>0.0</td>\n",
       "    </tr>\n",
       "    <tr>\n",
       "      <th>2</th>\n",
       "      <td>-5.415934</td>\n",
       "      <td>0.0</td>\n",
       "      <td>5.103267</td>\n",
       "      <td>0.0</td>\n",
       "    </tr>\n",
       "    <tr>\n",
       "      <th>3</th>\n",
       "      <td>-7.747474</td>\n",
       "      <td>0.0</td>\n",
       "      <td>1.266781</td>\n",
       "      <td>0.0</td>\n",
       "    </tr>\n",
       "    <tr>\n",
       "      <th>4</th>\n",
       "      <td>-14.347426</td>\n",
       "      <td>0.0</td>\n",
       "      <td>1.752109</td>\n",
       "      <td>0.0</td>\n",
       "    </tr>\n",
       "  </tbody>\n",
       "</table>\n",
       "</div>"
      ],
      "text/plain": [
       "      y_test  y_label  predictions  predicted_label\n",
       "0   4.331695      0.0     4.529222              0.0\n",
       "1  -8.161129      0.0     5.321245              0.0\n",
       "2  -5.415934      0.0     5.103267              0.0\n",
       "3  -7.747474      0.0     1.266781              0.0\n",
       "4 -14.347426      0.0     1.752109              0.0"
      ]
     },
     "execution_count": 14,
     "metadata": {},
     "output_type": "execute_result"
    }
   ],
   "source": [
    "#generate classification labels.\n",
    "#Classification threshold = 30 as used in paper.\n",
    "classification_df = pd.DataFrame(y_test, columns= [\"y_test\"])\n",
    "\n",
    "classification_df.loc[classification_df.y_test > 30, \"y_label\"] = 1\n",
    "classification_df.loc[classification_df.y_test < 30, \"y_label\"] = 0\n",
    "\n",
    "#add predictions to classification_df\n",
    "classification_df[\"predictions\"] = predictions\n",
    "\n",
    "classification_df.loc[classification_df.predictions > 30, \"predicted_label\"] = 1\n",
    "classification_df.loc[classification_df.predictions < 30, \"predicted_label\"] = 0\n",
    "\n",
    "classification_df.head()\n"
   ]
  },
  {
   "cell_type": "code",
   "execution_count": 15,
   "metadata": {},
   "outputs": [
    {
     "name": "stdout",
     "output_type": "stream",
     "text": [
      "accuracy = 94.1919191919192%\n",
      "balanced accuracy = 50.09433962264151%\n",
      "Confusion Matrix:\n",
      "[[8578    0]\n",
      " [ 529    1]]\n"
     ]
    }
   ],
   "source": [
    "correct_preds = classification_df.index[classification_df.y_label == classification_df.predicted_label].tolist()\n",
    "accuracy = 100 * len(correct_preds)/classification_df.shape[0]\n",
    "balanced_accuracy = 100 * balanced_accuracy_score(np.array(classification_df.y_label), np.array(classification_df.predicted_label))\n",
    "print(\"accuracy = {}%\".format(accuracy))\n",
    "print(\"balanced accuracy = {0}%\".format(balanced_accuracy))\n",
    "print(\"Confusion Matrix:\")\n",
    "print(confusion_matrix(np.array(classification_df.y_label), np.array(classification_df.predicted_label)))\n",
    "\n"
   ]
  },
  {
   "cell_type": "markdown",
   "metadata": {},
   "source": [
    "Accuracy per epoch"
   ]
  },
  {
   "cell_type": "code",
   "execution_count": 9,
   "metadata": {},
   "outputs": [
    {
     "name": "stderr",
     "output_type": "stream",
     "text": [
      "2022-03-22 21:49:56.369160: W tensorflow/core/framework/cpu_allocator_impl.cc:80] Allocation of 289511888 exceeds 10% of free system memory.\n",
      "2022-03-22 21:49:56.720320: W tensorflow/core/framework/cpu_allocator_impl.cc:80] Allocation of 289511888 exceeds 10% of free system memory.\n",
      "2022-03-22 21:49:56.900168: W tensorflow/core/framework/cpu_allocator_impl.cc:80] Allocation of 289511888 exceeds 10% of free system memory.\n",
      "/home/nidhi/miniconda3/lib/python3.8/site-packages/tensorflow/python/keras/optimizer_v2/optimizer_v2.py:374: UserWarning: The `lr` argument is deprecated, use `learning_rate` instead.\n",
      "  warnings.warn(\n",
      "2022-03-22 21:49:58.352629: W tensorflow/core/framework/cpu_allocator_impl.cc:80] Allocation of 289511888 exceeds 10% of free system memory.\n",
      "2022-03-22 21:49:58.630181: W tensorflow/core/framework/cpu_allocator_impl.cc:80] Allocation of 289511888 exceeds 10% of free system memory.\n",
      "2022-03-22 21:50:03.079443: I tensorflow/compiler/mlir/mlir_graph_optimization_pass.cc:176] None of the MLIR Optimization Passes are enabled (registered 2)\n",
      "2022-03-22 21:50:03.138455: I tensorflow/core/platform/profile_utils/cpu_utils.cc:114] CPU Frequency: 4200000000 Hz\n"
     ]
    },
    {
     "name": "stdout",
     "output_type": "stream",
     "text": [
      "579/579 [==============================] - 154s 263ms/step - loss: 506.7362 - mean_squared_error: 506.7362 - root_mean_squared_error: 22.5108 - mean_absolute_error: 14.4443 - val_loss: 400.8413 - val_mean_squared_error: 400.8413 - val_root_mean_squared_error: 20.0210 - val_mean_absolute_error: 13.3899\n",
      "Regression metrics from the model\n",
      "72/72 [==============================] - 7s 98ms/step - loss: 400.8414 - mean_squared_error: 400.8414 - root_mean_squared_error: 20.0210 - mean_absolute_error: 13.3899\n",
      "       MSE    RMSE      MAE      acc balanced_acc\n",
      "0  400.841  20.021  13.3899  94.1809           50\n",
      "Saved model to disk\n",
      "183/579 [========>.....................] - ETA: 1:43 - loss: 473.5054 - mean_squared_error: 473.5054 - root_mean_squared_error: 21.7602 - mean_absolute_error: 13.8231"
     ]
    },
    {
     "ename": "KeyboardInterrupt",
     "evalue": "",
     "output_type": "error",
     "traceback": [
      "\u001b[0;31m---------------------------------------------------------------------------\u001b[0m",
      "\u001b[0;31mKeyboardInterrupt\u001b[0m                         Traceback (most recent call last)",
      "\u001b[0;32m/tmp/ipykernel_14601/3683889874.py\u001b[0m in \u001b[0;36m<module>\u001b[0;34m\u001b[0m\n\u001b[1;32m     27\u001b[0m \u001b[0;34m\u001b[0m\u001b[0m\n\u001b[1;32m     28\u001b[0m     \u001b[0mmodel\u001b[0m \u001b[0;34m=\u001b[0m \u001b[0mload_model\u001b[0m\u001b[0;34m(\u001b[0m\u001b[0;34m'model.h5'\u001b[0m\u001b[0;34m)\u001b[0m\u001b[0;34m\u001b[0m\u001b[0;34m\u001b[0m\u001b[0m\n\u001b[0;32m---> 29\u001b[0;31m     \u001b[0mhist\u001b[0m \u001b[0;34m=\u001b[0m \u001b[0mmodel\u001b[0m\u001b[0;34m.\u001b[0m\u001b[0mfit\u001b[0m\u001b[0;34m(\u001b[0m\u001b[0mX_train\u001b[0m\u001b[0;34m,\u001b[0m \u001b[0my_train\u001b[0m\u001b[0;34m,\u001b[0m \u001b[0mepochs\u001b[0m\u001b[0;34m=\u001b[0m\u001b[0;36m1\u001b[0m\u001b[0;34m,\u001b[0m \u001b[0mshuffle\u001b[0m\u001b[0;34m=\u001b[0m\u001b[0;32mTrue\u001b[0m\u001b[0;34m,\u001b[0m \u001b[0mbatch_size\u001b[0m\u001b[0;34m=\u001b[0m\u001b[0;36m64\u001b[0m\u001b[0;34m,\u001b[0m \u001b[0mvalidation_data\u001b[0m\u001b[0;34m=\u001b[0m\u001b[0;34m(\u001b[0m\u001b[0mX_test\u001b[0m\u001b[0;34m,\u001b[0m \u001b[0my_test\u001b[0m\u001b[0;34m)\u001b[0m\u001b[0;34m)\u001b[0m\u001b[0;34m\u001b[0m\u001b[0;34m\u001b[0m\u001b[0m\n\u001b[0m\u001b[1;32m     30\u001b[0m \u001b[0;34m\u001b[0m\u001b[0m\n\u001b[1;32m     31\u001b[0m     \u001b[0mprint\u001b[0m\u001b[0;34m(\u001b[0m\u001b[0;34m\"Regression metrics from the model\"\u001b[0m\u001b[0;34m)\u001b[0m\u001b[0;34m\u001b[0m\u001b[0;34m\u001b[0m\u001b[0m\n",
      "\u001b[0;32m~/miniconda3/lib/python3.8/site-packages/tensorflow/python/keras/engine/training.py\u001b[0m in \u001b[0;36mfit\u001b[0;34m(self, x, y, batch_size, epochs, verbose, callbacks, validation_split, validation_data, shuffle, class_weight, sample_weight, initial_epoch, steps_per_epoch, validation_steps, validation_batch_size, validation_freq, max_queue_size, workers, use_multiprocessing)\u001b[0m\n\u001b[1;32m   1181\u001b[0m                 _r=1):\n\u001b[1;32m   1182\u001b[0m               \u001b[0mcallbacks\u001b[0m\u001b[0;34m.\u001b[0m\u001b[0mon_train_batch_begin\u001b[0m\u001b[0;34m(\u001b[0m\u001b[0mstep\u001b[0m\u001b[0;34m)\u001b[0m\u001b[0;34m\u001b[0m\u001b[0;34m\u001b[0m\u001b[0m\n\u001b[0;32m-> 1183\u001b[0;31m               \u001b[0mtmp_logs\u001b[0m \u001b[0;34m=\u001b[0m \u001b[0mself\u001b[0m\u001b[0;34m.\u001b[0m\u001b[0mtrain_function\u001b[0m\u001b[0;34m(\u001b[0m\u001b[0miterator\u001b[0m\u001b[0;34m)\u001b[0m\u001b[0;34m\u001b[0m\u001b[0;34m\u001b[0m\u001b[0m\n\u001b[0m\u001b[1;32m   1184\u001b[0m               \u001b[0;32mif\u001b[0m \u001b[0mdata_handler\u001b[0m\u001b[0;34m.\u001b[0m\u001b[0mshould_sync\u001b[0m\u001b[0;34m:\u001b[0m\u001b[0;34m\u001b[0m\u001b[0;34m\u001b[0m\u001b[0m\n\u001b[1;32m   1185\u001b[0m                 \u001b[0mcontext\u001b[0m\u001b[0;34m.\u001b[0m\u001b[0masync_wait\u001b[0m\u001b[0;34m(\u001b[0m\u001b[0;34m)\u001b[0m\u001b[0;34m\u001b[0m\u001b[0;34m\u001b[0m\u001b[0m\n",
      "\u001b[0;32m~/miniconda3/lib/python3.8/site-packages/tensorflow/python/eager/def_function.py\u001b[0m in \u001b[0;36m__call__\u001b[0;34m(self, *args, **kwds)\u001b[0m\n\u001b[1;32m    887\u001b[0m \u001b[0;34m\u001b[0m\u001b[0m\n\u001b[1;32m    888\u001b[0m       \u001b[0;32mwith\u001b[0m \u001b[0mOptionalXlaContext\u001b[0m\u001b[0;34m(\u001b[0m\u001b[0mself\u001b[0m\u001b[0;34m.\u001b[0m\u001b[0m_jit_compile\u001b[0m\u001b[0;34m)\u001b[0m\u001b[0;34m:\u001b[0m\u001b[0;34m\u001b[0m\u001b[0;34m\u001b[0m\u001b[0m\n\u001b[0;32m--> 889\u001b[0;31m         \u001b[0mresult\u001b[0m \u001b[0;34m=\u001b[0m \u001b[0mself\u001b[0m\u001b[0;34m.\u001b[0m\u001b[0m_call\u001b[0m\u001b[0;34m(\u001b[0m\u001b[0;34m*\u001b[0m\u001b[0margs\u001b[0m\u001b[0;34m,\u001b[0m \u001b[0;34m**\u001b[0m\u001b[0mkwds\u001b[0m\u001b[0;34m)\u001b[0m\u001b[0;34m\u001b[0m\u001b[0;34m\u001b[0m\u001b[0m\n\u001b[0m\u001b[1;32m    890\u001b[0m \u001b[0;34m\u001b[0m\u001b[0m\n\u001b[1;32m    891\u001b[0m       \u001b[0mnew_tracing_count\u001b[0m \u001b[0;34m=\u001b[0m \u001b[0mself\u001b[0m\u001b[0;34m.\u001b[0m\u001b[0mexperimental_get_tracing_count\u001b[0m\u001b[0;34m(\u001b[0m\u001b[0;34m)\u001b[0m\u001b[0;34m\u001b[0m\u001b[0;34m\u001b[0m\u001b[0m\n",
      "\u001b[0;32m~/miniconda3/lib/python3.8/site-packages/tensorflow/python/eager/def_function.py\u001b[0m in \u001b[0;36m_call\u001b[0;34m(self, *args, **kwds)\u001b[0m\n\u001b[1;32m    922\u001b[0m       \u001b[0;31m# In this case we have not created variables on the first call. So we can\u001b[0m\u001b[0;34m\u001b[0m\u001b[0;34m\u001b[0m\u001b[0;34m\u001b[0m\u001b[0m\n\u001b[1;32m    923\u001b[0m       \u001b[0;31m# run the first trace but we should fail if variables are created.\u001b[0m\u001b[0;34m\u001b[0m\u001b[0;34m\u001b[0m\u001b[0;34m\u001b[0m\u001b[0m\n\u001b[0;32m--> 924\u001b[0;31m       \u001b[0mresults\u001b[0m \u001b[0;34m=\u001b[0m \u001b[0mself\u001b[0m\u001b[0;34m.\u001b[0m\u001b[0m_stateful_fn\u001b[0m\u001b[0;34m(\u001b[0m\u001b[0;34m*\u001b[0m\u001b[0margs\u001b[0m\u001b[0;34m,\u001b[0m \u001b[0;34m**\u001b[0m\u001b[0mkwds\u001b[0m\u001b[0;34m)\u001b[0m\u001b[0;34m\u001b[0m\u001b[0;34m\u001b[0m\u001b[0m\n\u001b[0m\u001b[1;32m    925\u001b[0m       \u001b[0;32mif\u001b[0m \u001b[0mself\u001b[0m\u001b[0;34m.\u001b[0m\u001b[0m_created_variables\u001b[0m\u001b[0;34m:\u001b[0m\u001b[0;34m\u001b[0m\u001b[0;34m\u001b[0m\u001b[0m\n\u001b[1;32m    926\u001b[0m         raise ValueError(\"Creating variables on a non-first call to a function\"\n",
      "\u001b[0;32m~/miniconda3/lib/python3.8/site-packages/tensorflow/python/eager/function.py\u001b[0m in \u001b[0;36m__call__\u001b[0;34m(self, *args, **kwargs)\u001b[0m\n\u001b[1;32m   3021\u001b[0m       (graph_function,\n\u001b[1;32m   3022\u001b[0m        filtered_flat_args) = self._maybe_define_function(args, kwargs)\n\u001b[0;32m-> 3023\u001b[0;31m     return graph_function._call_flat(\n\u001b[0m\u001b[1;32m   3024\u001b[0m         filtered_flat_args, captured_inputs=graph_function.captured_inputs)  # pylint: disable=protected-access\n\u001b[1;32m   3025\u001b[0m \u001b[0;34m\u001b[0m\u001b[0m\n",
      "\u001b[0;32m~/miniconda3/lib/python3.8/site-packages/tensorflow/python/eager/function.py\u001b[0m in \u001b[0;36m_call_flat\u001b[0;34m(self, args, captured_inputs, cancellation_manager)\u001b[0m\n\u001b[1;32m   1958\u001b[0m         and executing_eagerly):\n\u001b[1;32m   1959\u001b[0m       \u001b[0;31m# No tape is watching; skip to running the function.\u001b[0m\u001b[0;34m\u001b[0m\u001b[0;34m\u001b[0m\u001b[0;34m\u001b[0m\u001b[0m\n\u001b[0;32m-> 1960\u001b[0;31m       return self._build_call_outputs(self._inference_function.call(\n\u001b[0m\u001b[1;32m   1961\u001b[0m           ctx, args, cancellation_manager=cancellation_manager))\n\u001b[1;32m   1962\u001b[0m     forward_backward = self._select_forward_and_backward_functions(\n",
      "\u001b[0;32m~/miniconda3/lib/python3.8/site-packages/tensorflow/python/eager/function.py\u001b[0m in \u001b[0;36mcall\u001b[0;34m(self, ctx, args, cancellation_manager)\u001b[0m\n\u001b[1;32m    589\u001b[0m       \u001b[0;32mwith\u001b[0m \u001b[0m_InterpolateFunctionError\u001b[0m\u001b[0;34m(\u001b[0m\u001b[0mself\u001b[0m\u001b[0;34m)\u001b[0m\u001b[0;34m:\u001b[0m\u001b[0;34m\u001b[0m\u001b[0;34m\u001b[0m\u001b[0m\n\u001b[1;32m    590\u001b[0m         \u001b[0;32mif\u001b[0m \u001b[0mcancellation_manager\u001b[0m \u001b[0;32mis\u001b[0m \u001b[0;32mNone\u001b[0m\u001b[0;34m:\u001b[0m\u001b[0;34m\u001b[0m\u001b[0;34m\u001b[0m\u001b[0m\n\u001b[0;32m--> 591\u001b[0;31m           outputs = execute.execute(\n\u001b[0m\u001b[1;32m    592\u001b[0m               \u001b[0mstr\u001b[0m\u001b[0;34m(\u001b[0m\u001b[0mself\u001b[0m\u001b[0;34m.\u001b[0m\u001b[0msignature\u001b[0m\u001b[0;34m.\u001b[0m\u001b[0mname\u001b[0m\u001b[0;34m)\u001b[0m\u001b[0;34m,\u001b[0m\u001b[0;34m\u001b[0m\u001b[0;34m\u001b[0m\u001b[0m\n\u001b[1;32m    593\u001b[0m               \u001b[0mnum_outputs\u001b[0m\u001b[0;34m=\u001b[0m\u001b[0mself\u001b[0m\u001b[0;34m.\u001b[0m\u001b[0m_num_outputs\u001b[0m\u001b[0;34m,\u001b[0m\u001b[0;34m\u001b[0m\u001b[0;34m\u001b[0m\u001b[0m\n",
      "\u001b[0;32m~/miniconda3/lib/python3.8/site-packages/tensorflow/python/eager/execute.py\u001b[0m in \u001b[0;36mquick_execute\u001b[0;34m(op_name, num_outputs, inputs, attrs, ctx, name)\u001b[0m\n\u001b[1;32m     57\u001b[0m   \u001b[0;32mtry\u001b[0m\u001b[0;34m:\u001b[0m\u001b[0;34m\u001b[0m\u001b[0;34m\u001b[0m\u001b[0m\n\u001b[1;32m     58\u001b[0m     \u001b[0mctx\u001b[0m\u001b[0;34m.\u001b[0m\u001b[0mensure_initialized\u001b[0m\u001b[0;34m(\u001b[0m\u001b[0;34m)\u001b[0m\u001b[0;34m\u001b[0m\u001b[0;34m\u001b[0m\u001b[0m\n\u001b[0;32m---> 59\u001b[0;31m     tensors = pywrap_tfe.TFE_Py_Execute(ctx._handle, device_name, op_name,\n\u001b[0m\u001b[1;32m     60\u001b[0m                                         inputs, attrs, num_outputs)\n\u001b[1;32m     61\u001b[0m   \u001b[0;32mexcept\u001b[0m \u001b[0mcore\u001b[0m\u001b[0;34m.\u001b[0m\u001b[0m_NotOkStatusException\u001b[0m \u001b[0;32mas\u001b[0m \u001b[0me\u001b[0m\u001b[0;34m:\u001b[0m\u001b[0;34m\u001b[0m\u001b[0;34m\u001b[0m\u001b[0m\n",
      "\u001b[0;31mKeyboardInterrupt\u001b[0m: "
     ]
    }
   ],
   "source": [
    "model = Sequential()\n",
    "metrics=[tf.keras.metrics.MeanSquaredError(), \n",
    "        tf.keras.metrics.RootMeanSquaredError(),\n",
    "        tf.keras.metrics.MeanAbsoluteError()]\n",
    "for i in range(len(layers)):\n",
    "    if i==0:\n",
    "        model.add(Dense(layers[i], input_shape=(X_tr.shape[1],), activation=act_func, \n",
    "        kernel_initializer='he_normal'))\n",
    "        \n",
    "        model.add(Dropout(float(input_dropout)))\n",
    "        \n",
    "    elif i==len(layers)-1:\n",
    "        model.add(Dense(layers[i], activation='linear', kernel_initializer=\"he_normal\"))\n",
    "    \n",
    "    else:\n",
    "        model.add(Dense(layers[i], activation=act_func, kernel_initializer=\"he_normal\"))\n",
    "        model.add(Dropout(float(dropout)))\n",
    "        \n",
    "    model.compile(loss='mean_squared_error', metrics= metrics, optimizer=K.optimizers.SGD(lr=float(eta), momentum=0.5))\n",
    "model.save(\"model.h5\") \n",
    "\n",
    "index = 0\n",
    "columns = [\"MSE\", \"RMSE\", \"MAE\", \"acc\", \"balanced_acc\"]\n",
    "metrics_df = pd.DataFrame(columns = columns)\n",
    "\n",
    "for epoch in range(1,50):\n",
    "    \n",
    "    model = load_model('model.h5')\n",
    "    hist = model.fit(X_train, y_train, epochs=1, shuffle=True, batch_size=64, validation_data=(X_test, y_test))\n",
    "\n",
    "    print(\"Regression metrics from the model\")\n",
    "    results = model.evaluate(X_test, y_test, batch_size=128)\n",
    "    predictions2 = model.predict(X_test)\n",
    "    classification_df = pd.DataFrame(y_test, columns= [\"y_test\"])\n",
    "\n",
    "    classification_df.loc[classification_df.y_test > 30, \"y_label\"] = 1\n",
    "    classification_df.loc[classification_df.y_test < 30, \"y_label\"] = 0\n",
    "\n",
    "    #add predictions to classification_df\n",
    "    classification_df[\"predictions\"] = predictions2\n",
    "    classification_df.loc[classification_df.predictions > 30, \"predicted_label\"] = 1\n",
    "    classification_df.loc[classification_df.predictions < 30, \"predicted_label\"] = 0\n",
    "\n",
    "    correct_preds = classification_df.index[classification_df.y_label == classification_df.predicted_label].tolist()\n",
    "    accuracy = 100 * len(correct_preds)/classification_df.shape[0]\n",
    "    balanced_accuracy = 100 * balanced_accuracy_score(np.array(classification_df.y_label), np.array(classification_df.predicted_label))\n",
    "\n",
    "    #metrics per epoch\n",
    "    metrics_df.at[index, \"MSE\"] = results[1]\n",
    "    metrics_df.at[index, \"RMSE\"] = results[2]\n",
    "    metrics_df.at[index, \"MAE\"] = results[3]\n",
    "    metrics_df.at[index, \"acc\"] = accuracy\n",
    "    metrics_df.at[index, \"balanced_acc\"] = balanced_accuracy\n",
    "\n",
    "    index +=1\n",
    "    print(metrics_df)\n",
    "    model.save(\"model.h5\")\n",
    "    print(\"Saved model to disk\")\n",
    "\n",
    "\n",
    "\n",
    "\n",
    "        "
   ]
  },
  {
   "cell_type": "markdown",
   "metadata": {},
   "source": [
    "Saving results to disk for plotting."
   ]
  },
  {
   "cell_type": "code",
   "execution_count": 22,
   "metadata": {},
   "outputs": [],
   "source": [
    "# #save predictions to disk for plotting results.\n",
    "# predictions_df = pd.DataFrame(predictions)\n",
    "# predictions_df.to_csv(\"/home/nidhi/Documents/freelancing/DeepSynergy/data/Results/predictions.csv\")"
   ]
  },
  {
   "cell_type": "code",
   "execution_count": null,
   "metadata": {},
   "outputs": [
    {
     "data": {
      "text/html": [
       "<div>\n",
       "<style scoped>\n",
       "    .dataframe tbody tr th:only-of-type {\n",
       "        vertical-align: middle;\n",
       "    }\n",
       "\n",
       "    .dataframe tbody tr th {\n",
       "        vertical-align: top;\n",
       "    }\n",
       "\n",
       "    .dataframe thead th {\n",
       "        text-align: right;\n",
       "    }\n",
       "</style>\n",
       "<table border=\"1\" class=\"dataframe\">\n",
       "  <thead>\n",
       "    <tr style=\"text-align: right;\">\n",
       "      <th></th>\n",
       "      <th>0</th>\n",
       "    </tr>\n",
       "  </thead>\n",
       "  <tbody>\n",
       "    <tr>\n",
       "      <th>0</th>\n",
       "      <td>3.928714</td>\n",
       "    </tr>\n",
       "    <tr>\n",
       "      <th>1</th>\n",
       "      <td>4.185056</td>\n",
       "    </tr>\n",
       "    <tr>\n",
       "      <th>2</th>\n",
       "      <td>3.786518</td>\n",
       "    </tr>\n",
       "    <tr>\n",
       "      <th>3</th>\n",
       "      <td>0.477290</td>\n",
       "    </tr>\n",
       "    <tr>\n",
       "      <th>4</th>\n",
       "      <td>-1.461741</td>\n",
       "    </tr>\n",
       "    <tr>\n",
       "      <th>...</th>\n",
       "      <td>...</td>\n",
       "    </tr>\n",
       "    <tr>\n",
       "      <th>9103</th>\n",
       "      <td>-1.225690</td>\n",
       "    </tr>\n",
       "    <tr>\n",
       "      <th>9104</th>\n",
       "      <td>0.568435</td>\n",
       "    </tr>\n",
       "    <tr>\n",
       "      <th>9105</th>\n",
       "      <td>0.568435</td>\n",
       "    </tr>\n",
       "    <tr>\n",
       "      <th>9106</th>\n",
       "      <td>3.253036</td>\n",
       "    </tr>\n",
       "    <tr>\n",
       "      <th>9107</th>\n",
       "      <td>-1.708119</td>\n",
       "    </tr>\n",
       "  </tbody>\n",
       "</table>\n",
       "<p>9108 rows × 1 columns</p>\n",
       "</div>"
      ],
      "text/plain": [
       "             0\n",
       "0     3.928714\n",
       "1     4.185056\n",
       "2     3.786518\n",
       "3     0.477290\n",
       "4    -1.461741\n",
       "...        ...\n",
       "9103 -1.225690\n",
       "9104  0.568435\n",
       "9105  0.568435\n",
       "9106  3.253036\n",
       "9107 -1.708119\n",
       "\n",
       "[9108 rows x 1 columns]"
      ]
     },
     "execution_count": 27,
     "metadata": {},
     "output_type": "execute_result"
    }
   ],
   "source": [
    "predictions2_df"
   ]
  },
  {
   "cell_type": "code",
   "execution_count": null,
   "metadata": {},
   "outputs": [],
   "source": [
    "#save results of model training version 2 (WITH ACCURACY METRICS PER EPOCH)\n",
    "predictions2_df = pd.DataFrame(predictions2)\n",
    "predictions2_df.to_csv(\"predictions_per_epoch_acc_50_epochs.csv\")"
   ]
  },
  {
   "cell_type": "code",
   "execution_count": null,
   "metadata": {},
   "outputs": [],
   "source": [
    "#save metrics_df \n",
    "metrics_df.to_csv(\"metrics_per_epoch_50epochs.csv\")"
   ]
  },
  {
   "cell_type": "markdown",
   "metadata": {},
   "source": [
    "#### smooth validation loss for early stopping parameter determination"
   ]
  },
  {
   "cell_type": "code",
   "execution_count": 19,
   "metadata": {},
   "outputs": [
    {
     "name": "stdout",
     "output_type": "stream",
     "text": [
      "[401.81829834]\n"
     ]
    }
   ],
   "source": [
    "average_over = 2 #was 15 earlier. We only ran 2 epochs. So, threw error.\n",
    "mov_av = moving_average(np.array(val_loss), average_over)\n",
    "print(mov_av)\n",
    "smooth_val_loss = np.pad(mov_av, int(average_over/2), mode='edge')\n",
    "epo = np.argmin(smooth_val_loss)\n"
   ]
  },
  {
   "cell_type": "markdown",
   "metadata": {},
   "source": [
    "#### determine model performance for methods comparison "
   ]
  },
  {
   "cell_type": "code",
   "execution_count": 20,
   "metadata": {},
   "outputs": [
    {
     "name": "stdout",
     "output_type": "stream",
     "text": [
      "Epoch 1/2\n",
      " 63/579 [==>...........................] - ETA: 2:12 - loss: 406.9713 - mean_squared_error: 406.9713 - root_mean_squared_error: 20.1735 - mean_absolute_error: 13.0009"
     ]
    },
    {
     "ename": "KeyboardInterrupt",
     "evalue": "",
     "output_type": "error",
     "traceback": [
      "\u001b[0;31m---------------------------------------------------------------------------\u001b[0m",
      "\u001b[0;31mKeyboardInterrupt\u001b[0m                         Traceback (most recent call last)",
      "\u001b[0;32m/tmp/ipykernel_13148/2831353331.py\u001b[0m in \u001b[0;36m<module>\u001b[0;34m\u001b[0m\n\u001b[0;32m----> 1\u001b[0;31m \u001b[0mhist\u001b[0m \u001b[0;34m=\u001b[0m \u001b[0mmodel\u001b[0m\u001b[0;34m.\u001b[0m\u001b[0mfit\u001b[0m\u001b[0;34m(\u001b[0m\u001b[0mX_train\u001b[0m\u001b[0;34m,\u001b[0m \u001b[0my_train\u001b[0m\u001b[0;34m,\u001b[0m \u001b[0mepochs\u001b[0m\u001b[0;34m=\u001b[0m\u001b[0;36m2\u001b[0m\u001b[0;34m,\u001b[0m \u001b[0mshuffle\u001b[0m\u001b[0;34m=\u001b[0m\u001b[0;32mTrue\u001b[0m\u001b[0;34m,\u001b[0m \u001b[0mbatch_size\u001b[0m\u001b[0;34m=\u001b[0m\u001b[0;36m64\u001b[0m\u001b[0;34m,\u001b[0m \u001b[0mvalidation_data\u001b[0m\u001b[0;34m=\u001b[0m\u001b[0;34m(\u001b[0m\u001b[0mX_test\u001b[0m\u001b[0;34m,\u001b[0m \u001b[0my_test\u001b[0m\u001b[0;34m)\u001b[0m\u001b[0;34m)\u001b[0m\u001b[0;34m\u001b[0m\u001b[0;34m\u001b[0m\u001b[0m\n\u001b[0m\u001b[1;32m      2\u001b[0m \u001b[0mtest_loss\u001b[0m \u001b[0;34m=\u001b[0m \u001b[0mhist\u001b[0m\u001b[0;34m.\u001b[0m\u001b[0mhistory\u001b[0m\u001b[0;34m[\u001b[0m\u001b[0;34m'val_loss'\u001b[0m\u001b[0;34m]\u001b[0m\u001b[0;34m\u001b[0m\u001b[0;34m\u001b[0m\u001b[0m\n",
      "\u001b[0;32m~/miniconda3/lib/python3.8/site-packages/tensorflow/python/keras/engine/training.py\u001b[0m in \u001b[0;36mfit\u001b[0;34m(self, x, y, batch_size, epochs, verbose, callbacks, validation_split, validation_data, shuffle, class_weight, sample_weight, initial_epoch, steps_per_epoch, validation_steps, validation_batch_size, validation_freq, max_queue_size, workers, use_multiprocessing)\u001b[0m\n\u001b[1;32m   1181\u001b[0m                 _r=1):\n\u001b[1;32m   1182\u001b[0m               \u001b[0mcallbacks\u001b[0m\u001b[0;34m.\u001b[0m\u001b[0mon_train_batch_begin\u001b[0m\u001b[0;34m(\u001b[0m\u001b[0mstep\u001b[0m\u001b[0;34m)\u001b[0m\u001b[0;34m\u001b[0m\u001b[0;34m\u001b[0m\u001b[0m\n\u001b[0;32m-> 1183\u001b[0;31m               \u001b[0mtmp_logs\u001b[0m \u001b[0;34m=\u001b[0m \u001b[0mself\u001b[0m\u001b[0;34m.\u001b[0m\u001b[0mtrain_function\u001b[0m\u001b[0;34m(\u001b[0m\u001b[0miterator\u001b[0m\u001b[0;34m)\u001b[0m\u001b[0;34m\u001b[0m\u001b[0;34m\u001b[0m\u001b[0m\n\u001b[0m\u001b[1;32m   1184\u001b[0m               \u001b[0;32mif\u001b[0m \u001b[0mdata_handler\u001b[0m\u001b[0;34m.\u001b[0m\u001b[0mshould_sync\u001b[0m\u001b[0;34m:\u001b[0m\u001b[0;34m\u001b[0m\u001b[0;34m\u001b[0m\u001b[0m\n\u001b[1;32m   1185\u001b[0m                 \u001b[0mcontext\u001b[0m\u001b[0;34m.\u001b[0m\u001b[0masync_wait\u001b[0m\u001b[0;34m(\u001b[0m\u001b[0;34m)\u001b[0m\u001b[0;34m\u001b[0m\u001b[0;34m\u001b[0m\u001b[0m\n",
      "\u001b[0;32m~/miniconda3/lib/python3.8/site-packages/tensorflow/python/eager/def_function.py\u001b[0m in \u001b[0;36m__call__\u001b[0;34m(self, *args, **kwds)\u001b[0m\n\u001b[1;32m    887\u001b[0m \u001b[0;34m\u001b[0m\u001b[0m\n\u001b[1;32m    888\u001b[0m       \u001b[0;32mwith\u001b[0m \u001b[0mOptionalXlaContext\u001b[0m\u001b[0;34m(\u001b[0m\u001b[0mself\u001b[0m\u001b[0;34m.\u001b[0m\u001b[0m_jit_compile\u001b[0m\u001b[0;34m)\u001b[0m\u001b[0;34m:\u001b[0m\u001b[0;34m\u001b[0m\u001b[0;34m\u001b[0m\u001b[0m\n\u001b[0;32m--> 889\u001b[0;31m         \u001b[0mresult\u001b[0m \u001b[0;34m=\u001b[0m \u001b[0mself\u001b[0m\u001b[0;34m.\u001b[0m\u001b[0m_call\u001b[0m\u001b[0;34m(\u001b[0m\u001b[0;34m*\u001b[0m\u001b[0margs\u001b[0m\u001b[0;34m,\u001b[0m \u001b[0;34m**\u001b[0m\u001b[0mkwds\u001b[0m\u001b[0;34m)\u001b[0m\u001b[0;34m\u001b[0m\u001b[0;34m\u001b[0m\u001b[0m\n\u001b[0m\u001b[1;32m    890\u001b[0m \u001b[0;34m\u001b[0m\u001b[0m\n\u001b[1;32m    891\u001b[0m       \u001b[0mnew_tracing_count\u001b[0m \u001b[0;34m=\u001b[0m \u001b[0mself\u001b[0m\u001b[0;34m.\u001b[0m\u001b[0mexperimental_get_tracing_count\u001b[0m\u001b[0;34m(\u001b[0m\u001b[0;34m)\u001b[0m\u001b[0;34m\u001b[0m\u001b[0;34m\u001b[0m\u001b[0m\n",
      "\u001b[0;32m~/miniconda3/lib/python3.8/site-packages/tensorflow/python/eager/def_function.py\u001b[0m in \u001b[0;36m_call\u001b[0;34m(self, *args, **kwds)\u001b[0m\n\u001b[1;32m    922\u001b[0m       \u001b[0;31m# In this case we have not created variables on the first call. So we can\u001b[0m\u001b[0;34m\u001b[0m\u001b[0;34m\u001b[0m\u001b[0;34m\u001b[0m\u001b[0m\n\u001b[1;32m    923\u001b[0m       \u001b[0;31m# run the first trace but we should fail if variables are created.\u001b[0m\u001b[0;34m\u001b[0m\u001b[0;34m\u001b[0m\u001b[0;34m\u001b[0m\u001b[0m\n\u001b[0;32m--> 924\u001b[0;31m       \u001b[0mresults\u001b[0m \u001b[0;34m=\u001b[0m \u001b[0mself\u001b[0m\u001b[0;34m.\u001b[0m\u001b[0m_stateful_fn\u001b[0m\u001b[0;34m(\u001b[0m\u001b[0;34m*\u001b[0m\u001b[0margs\u001b[0m\u001b[0;34m,\u001b[0m \u001b[0;34m**\u001b[0m\u001b[0mkwds\u001b[0m\u001b[0;34m)\u001b[0m\u001b[0;34m\u001b[0m\u001b[0;34m\u001b[0m\u001b[0m\n\u001b[0m\u001b[1;32m    925\u001b[0m       \u001b[0;32mif\u001b[0m \u001b[0mself\u001b[0m\u001b[0;34m.\u001b[0m\u001b[0m_created_variables\u001b[0m\u001b[0;34m:\u001b[0m\u001b[0;34m\u001b[0m\u001b[0;34m\u001b[0m\u001b[0m\n\u001b[1;32m    926\u001b[0m         raise ValueError(\"Creating variables on a non-first call to a function\"\n",
      "\u001b[0;32m~/miniconda3/lib/python3.8/site-packages/tensorflow/python/eager/function.py\u001b[0m in \u001b[0;36m__call__\u001b[0;34m(self, *args, **kwargs)\u001b[0m\n\u001b[1;32m   3021\u001b[0m       (graph_function,\n\u001b[1;32m   3022\u001b[0m        filtered_flat_args) = self._maybe_define_function(args, kwargs)\n\u001b[0;32m-> 3023\u001b[0;31m     return graph_function._call_flat(\n\u001b[0m\u001b[1;32m   3024\u001b[0m         filtered_flat_args, captured_inputs=graph_function.captured_inputs)  # pylint: disable=protected-access\n\u001b[1;32m   3025\u001b[0m \u001b[0;34m\u001b[0m\u001b[0m\n",
      "\u001b[0;32m~/miniconda3/lib/python3.8/site-packages/tensorflow/python/eager/function.py\u001b[0m in \u001b[0;36m_call_flat\u001b[0;34m(self, args, captured_inputs, cancellation_manager)\u001b[0m\n\u001b[1;32m   1958\u001b[0m         and executing_eagerly):\n\u001b[1;32m   1959\u001b[0m       \u001b[0;31m# No tape is watching; skip to running the function.\u001b[0m\u001b[0;34m\u001b[0m\u001b[0;34m\u001b[0m\u001b[0;34m\u001b[0m\u001b[0m\n\u001b[0;32m-> 1960\u001b[0;31m       return self._build_call_outputs(self._inference_function.call(\n\u001b[0m\u001b[1;32m   1961\u001b[0m           ctx, args, cancellation_manager=cancellation_manager))\n\u001b[1;32m   1962\u001b[0m     forward_backward = self._select_forward_and_backward_functions(\n",
      "\u001b[0;32m~/miniconda3/lib/python3.8/site-packages/tensorflow/python/eager/function.py\u001b[0m in \u001b[0;36mcall\u001b[0;34m(self, ctx, args, cancellation_manager)\u001b[0m\n\u001b[1;32m    589\u001b[0m       \u001b[0;32mwith\u001b[0m \u001b[0m_InterpolateFunctionError\u001b[0m\u001b[0;34m(\u001b[0m\u001b[0mself\u001b[0m\u001b[0;34m)\u001b[0m\u001b[0;34m:\u001b[0m\u001b[0;34m\u001b[0m\u001b[0;34m\u001b[0m\u001b[0m\n\u001b[1;32m    590\u001b[0m         \u001b[0;32mif\u001b[0m \u001b[0mcancellation_manager\u001b[0m \u001b[0;32mis\u001b[0m \u001b[0;32mNone\u001b[0m\u001b[0;34m:\u001b[0m\u001b[0;34m\u001b[0m\u001b[0;34m\u001b[0m\u001b[0m\n\u001b[0;32m--> 591\u001b[0;31m           outputs = execute.execute(\n\u001b[0m\u001b[1;32m    592\u001b[0m               \u001b[0mstr\u001b[0m\u001b[0;34m(\u001b[0m\u001b[0mself\u001b[0m\u001b[0;34m.\u001b[0m\u001b[0msignature\u001b[0m\u001b[0;34m.\u001b[0m\u001b[0mname\u001b[0m\u001b[0;34m)\u001b[0m\u001b[0;34m,\u001b[0m\u001b[0;34m\u001b[0m\u001b[0;34m\u001b[0m\u001b[0m\n\u001b[1;32m    593\u001b[0m               \u001b[0mnum_outputs\u001b[0m\u001b[0;34m=\u001b[0m\u001b[0mself\u001b[0m\u001b[0;34m.\u001b[0m\u001b[0m_num_outputs\u001b[0m\u001b[0;34m,\u001b[0m\u001b[0;34m\u001b[0m\u001b[0;34m\u001b[0m\u001b[0m\n",
      "\u001b[0;32m~/miniconda3/lib/python3.8/site-packages/tensorflow/python/eager/execute.py\u001b[0m in \u001b[0;36mquick_execute\u001b[0;34m(op_name, num_outputs, inputs, attrs, ctx, name)\u001b[0m\n\u001b[1;32m     57\u001b[0m   \u001b[0;32mtry\u001b[0m\u001b[0;34m:\u001b[0m\u001b[0;34m\u001b[0m\u001b[0;34m\u001b[0m\u001b[0m\n\u001b[1;32m     58\u001b[0m     \u001b[0mctx\u001b[0m\u001b[0;34m.\u001b[0m\u001b[0mensure_initialized\u001b[0m\u001b[0;34m(\u001b[0m\u001b[0;34m)\u001b[0m\u001b[0;34m\u001b[0m\u001b[0;34m\u001b[0m\u001b[0m\n\u001b[0;32m---> 59\u001b[0;31m     tensors = pywrap_tfe.TFE_Py_Execute(ctx._handle, device_name, op_name,\n\u001b[0m\u001b[1;32m     60\u001b[0m                                         inputs, attrs, num_outputs)\n\u001b[1;32m     61\u001b[0m   \u001b[0;32mexcept\u001b[0m \u001b[0mcore\u001b[0m\u001b[0;34m.\u001b[0m\u001b[0m_NotOkStatusException\u001b[0m \u001b[0;32mas\u001b[0m \u001b[0me\u001b[0m\u001b[0;34m:\u001b[0m\u001b[0;34m\u001b[0m\u001b[0;34m\u001b[0m\u001b[0m\n",
      "\u001b[0;31mKeyboardInterrupt\u001b[0m: "
     ]
    }
   ],
   "source": [
    "hist = model.fit(X_train, y_train, epochs=2, shuffle=True, batch_size=64, validation_data=(X_test, y_test))\n",
    "test_loss = hist.history['val_loss']"
   ]
  },
  {
   "cell_type": "markdown",
   "metadata": {},
   "source": [
    "#### plot performance "
   ]
  },
  {
   "cell_type": "code",
   "execution_count": null,
   "metadata": {},
   "outputs": [
    {
     "data": {
      "image/png": "[encoded data removed]",
      "text/plain": [
       "<Figure size 1152x576 with 1 Axes>"
      ]
     },
     "metadata": {
      "needs_background": "light"
     },
     "output_type": "display_data"
    }
   ],
   "source": [
    "fig, ax = plt.subplots(figsize=(16,8))\n",
    "ax.plot(val_loss, label='validation loss')\n",
    "ax.plot(smooth_val_loss, label='smooth validation loss')\n",
    "ax.plot(test_loss, label='test loss')\n",
    "ax.legend()\n",
    "plt.show()"
   ]
  },
  {
   "cell_type": "code",
   "execution_count": null,
   "metadata": {},
   "outputs": [],
   "source": []
  }
 ],
 "metadata": {
  "kernelspec": {
   "display_name": "Python 3",
   "language": "python",
   "name": "python3"
  },
  "language_info": {
   "codemirror_mode": {
    "name": "ipython",
    "version": 3
   },
   "file_extension": ".py",
   "mimetype": "text/x-python",
   "name": "python",
   "nbconvert_exporter": "python",
   "pygments_lexer": "ipython3",
   "version": "3.8.10"
  }
 },
 "nbformat": 4,
 "nbformat_minor": 1
}
